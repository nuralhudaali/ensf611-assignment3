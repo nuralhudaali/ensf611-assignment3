{
 "cells": [
  {
   "attachments": {},
   "cell_type": "markdown",
   "id": "92778525",
   "metadata": {},
   "source": [
    "# Assignment 3: Non-Linear Models and Validation Metrics (37 total marks)\n",
    "### Due: October 24 at 11:59pm\n",
    "\n",
    "### Name: Nur-Alhuda Ali"
   ]
  },
  {
   "attachments": {},
   "cell_type": "markdown",
   "id": "ce31b39a",
   "metadata": {},
   "source": [
    "### In this assignment, you will need to write code that uses non-linear models to perform classification and regression tasks. You will also be asked to describe the process by which you came up with the code. More details can be found below. Please cite any websites or AI tools that you used to help you with this assignment."
   ]
  },
  {
   "attachments": {},
   "cell_type": "markdown",
   "id": "cf275ca7",
   "metadata": {},
   "source": [
    "### Import Libraries"
   ]
  },
  {
   "cell_type": "code",
   "execution_count": 123,
   "id": "2b67a661",
   "metadata": {},
   "outputs": [],
   "source": [
    "import numpy as np\n",
    "import pandas as pd\n",
    "import matplotlib.pyplot as plt\n",
    "import seaborn as sns"
   ]
  },
  {
   "attachments": {},
   "cell_type": "markdown",
   "id": "5ee2d2c3",
   "metadata": {},
   "source": [
    "## Part 1: Regression (14.5 marks)\n",
    "\n",
    "For this section, we will be continuing with the concrete example from yellowbrick. You will need to compare these results to the results from the previous assignment. Please use the results from the solution if you were unable to complete Assignment 2"
   ]
  },
  {
   "attachments": {},
   "cell_type": "markdown",
   "id": "8219f163",
   "metadata": {},
   "source": [
    "### Step 1: Data Input (0.5 marks)\n",
    "\n",
    "The data used for this task can be downloaded using the yellowbrick library: \n",
    "https://www.scikit-yb.org/en/latest/api/datasets/concrete.html\n",
    "\n",
    "Use the yellowbrick function `load_concrete()` to load the concrete dataset into the feature matrix `X` and target vector `y`."
   ]
  },
  {
   "cell_type": "code",
   "execution_count": 126,
   "id": "2af8bd32",
   "metadata": {},
   "outputs": [],
   "source": [
    "# TO DO: Import concrete dataset from yellowbrick library\n",
    "from yellowbrick.datasets import load_concrete\n",
    "X, y = load_concrete()"
   ]
  },
  {
   "attachments": {},
   "cell_type": "markdown",
   "id": "42fea4cc",
   "metadata": {},
   "source": [
    "### Step 2: Data Processing (0 marks)\n",
    "\n",
    "Data processing was completed in the previous assignment. No need to repeat here."
   ]
  },
  {
   "attachments": {},
   "cell_type": "markdown",
   "id": "2a245d00",
   "metadata": {},
   "source": [
    "### Step 3: Implement Machine Learning Model\n",
    "\n",
    "1. Import the Decision Tree, Random Forest and Gradient Boosting Machines regression models from sklearn\n",
    "2. Instantiate the three models with `max_depth = 5`. Are there any other parameters that you will need to set?\n",
    "3. Implement each machine learning model with `X` and `y`"
   ]
  },
  {
   "attachments": {},
   "cell_type": "markdown",
   "id": "3f994e31",
   "metadata": {},
   "source": [
    "### Step 4: Validate Model\n",
    "\n",
    "Calculate the average training and validation accuracy using mean squared error with cross-validation. To do this, you will need to set `scoring='neg_mean_squared_error'` in your `cross_validate` function and negate the results (multiply by -1)"
   ]
  },
  {
   "attachments": {},
   "cell_type": "markdown",
   "id": "5fc3f7a8",
   "metadata": {},
   "source": [
    "### Step 5: Visualize Results (4 marks)\n",
    "\n",
    "1. Create a pandas DataFrame `results` with columns: Training accuracy and Validation accuracy, and index: DT, RF and GB\n",
    "2. Add the accuracy results to the `results` DataFrame\n",
    "3. Print `results`"
   ]
  },
  {
   "cell_type": "code",
   "execution_count": 127,
   "id": "fdc93a78",
   "metadata": {},
   "outputs": [
    {
     "name": "stdout",
     "output_type": "stream",
     "text": [
      "Using negative mean square error scoring:\n",
      "\n",
      "    Training Accuracy  Validation Accuracy\n",
      "DT          47.279761            73.447331\n",
      "RF          29.576135            45.052441\n",
      "GB           3.379440            22.819636\n"
     ]
    }
   ],
   "source": [
    "# TO DO: ADD YOUR CODE HERE FOR STEPS 3-5\n",
    "# Note: for any random state parameters, you can use random_state = 0\n",
    "# HINT: USING A LOOP TO STORE THE DATA IN YOUR RESULTS DATAFRAME WILL BE MORE EFFICIENT\n",
    "\n",
    "from sklearn.tree import DecisionTreeRegressor\n",
    "from sklearn.ensemble import RandomForestRegressor, GradientBoostingRegressor\n",
    "from sklearn.model_selection import train_test_split, cross_validate\n",
    "\n",
    "## STEP 3\n",
    "X_train, X_test, y_train, y_test = train_test_split(X, y, random_state=0)   # use default test size\n",
    "\n",
    "DT_model = DecisionTreeRegressor(max_depth=5, random_state=0)\n",
    "RF_model = RandomForestRegressor(max_depth=5, random_state=0)  # max_features left as default, which is max_features=\"auto\", and \"auto\" means max_features = n_features, which is what we want for regression\n",
    "GB_model = GradientBoostingRegressor(max_depth=5, random_state=0) # n_estimators and learning_rate left as default\n",
    "\n",
    "DT_model.fit(X_train, y_train)\n",
    "RF_model.fit(X_train, y_train)\n",
    "GB_model.fit(X_train, y_train)\n",
    "\n",
    "## STEP 4\n",
    "\n",
    "# For the Decision Tree model:\n",
    "DT_cv = cross_validate(DT_model, X_train, y_train, cv=5, scoring='neg_mean_squared_error', return_train_score=True)\n",
    "DT_train_score = np.mean(DT_cv['train_score']) * -1\n",
    "DT_test_score = np.mean(DT_cv['test_score']) * -1\n",
    "scores_MSE = { 'DT' : [DT_train_score, DT_test_score] } # add results to dictionary of negative MSE scores\n",
    "\n",
    "# For the Random Forest model:\n",
    "RF_cv = cross_validate(RF_model, X_train, y_train, cv=5, scoring='neg_mean_squared_error', return_train_score=True)\n",
    "RF_train_score = np.mean(RF_cv['train_score']) * -1\n",
    "RF_test_score = np.mean(RF_cv['test_score']) * -1\n",
    "scores_MSE['RF'] = [RF_train_score, RF_test_score]\n",
    "\n",
    "# For the Gradient Boosting model:\n",
    "GB_cv = cross_validate(GB_model, X_train, y_train, cv=5, scoring='neg_mean_squared_error', return_train_score=True)\n",
    "GB_train_score = np.mean(GB_cv['train_score']) * -1\n",
    "GB_test_score = np.mean(GB_cv['test_score']) * -1\n",
    "scores_MSE['GB'] = [GB_train_score, GB_test_score]\n",
    "\n",
    "## STEP 5\n",
    "# Visualize the results.\n",
    "print(\"Using negative mean square error scoring:\\n\")\n",
    "results = pd.DataFrame.from_dict(scores_MSE, orient='index', columns=['Training Accuracy', 'Validation Accuracy'])\n",
    "print(results)"
   ]
  },
  {
   "attachments": {},
   "cell_type": "markdown",
   "id": "31715a9d",
   "metadata": {},
   "source": [
    "Repeat the step above to print the R2 score instead of the mean-squared error. For this case, you can use `scoring='r2'`"
   ]
  },
  {
   "cell_type": "code",
   "execution_count": 129,
   "id": "83539f47",
   "metadata": {},
   "outputs": [
    {
     "name": "stdout",
     "output_type": "stream",
     "text": [
      "Using R2 scoring:\n",
      "\n",
      "    Training Accuracy  Validation Accuracy\n",
      "DT           0.834465             0.738697\n",
      "RF           0.896561             0.840951\n",
      "GB           0.988171             0.919348\n"
     ]
    }
   ],
   "source": [
    "# TO DO: ADD YOUR CODE HERE\n",
    "\n",
    "# For the Decision Tree model:\n",
    "DT_cv = cross_validate(DT_model, X_train, y_train, cv=5, scoring='r2', return_train_score=True)\n",
    "DT_train_score = np.mean(DT_cv['train_score'])\n",
    "DT_test_score = np.mean(DT_cv['test_score'])\n",
    "scores_R2 = { 'DT' : [DT_train_score, DT_test_score] } # add results to dictionary of negative MSE scores\n",
    "\n",
    "# For the Random Forest model:\n",
    "RF_cv = cross_validate(RF_model, X_train, y_train, cv=5, scoring='r2', return_train_score=True)\n",
    "RF_train_score = np.mean(RF_cv['train_score'])\n",
    "RF_test_score = np.mean(RF_cv['test_score'])\n",
    "scores_R2['RF'] = [RF_train_score, RF_test_score]\n",
    "\n",
    "# For the Gradient Boosting model:\n",
    "GB_cv = cross_validate(GB_model, X_train, y_train, cv=5, scoring='r2', return_train_score=True)\n",
    "GB_train_score = np.mean(GB_cv['train_score'])\n",
    "GB_test_score = np.mean(GB_cv['test_score'])\n",
    "scores_R2['GB'] = [GB_train_score, GB_test_score]\n",
    "\n",
    "# Visualize the results.\n",
    "print(\"Using R2 scoring:\\n\")\n",
    "results = pd.DataFrame.from_dict(scores_R2, orient='index', columns=['Training Accuracy', 'Validation Accuracy'])\n",
    "print(results)"
   ]
  },
  {
   "attachments": {},
   "cell_type": "markdown",
   "id": "a5257a98",
   "metadata": {},
   "source": [
    "### Questions (6 marks)\n",
    "1. How do these results compare to the results using a linear model in the previous assignment? Use values.\n",
    "2. Out of the models you tested, which model would you select for this dataset and why?\n",
    "3. If you wanted to increase the accuracy of the tree-based models, what would you do? Provide two suggestions.\n",
    "\n",
    "*ANSWER HERE*\n",
    "\n",
    "1. Using a linear model for this data in the previous assignment, the training and validation accuracies using R2 scoring were 0.61 and 0.62, respectively, and using MSE, were 111. 36 and 95.90, respectively. All the models used in the assignment performed significantly better than the linear model.\n",
    "\n",
    "    Using mean square error, the decision tree model has training and validation accuracies of 47.28 and 73.45, which are 64.08 and 22.45 lower than those of the linear model, respectively. The random forest model has training and validation mean square errors of 29.58 and 45.05, which are 81.78 and 50.85 lower than those of the linear model, respectively. Again, the gradient-boosting model was the best-performing with training and validation mean square errors of 3.38 and 22.82, which are 107.98 and 73.08, respectively.\n",
    "\n",
    "    Using R2 scoring, the decision tree model has training and validation accuracies of 0.83 and 0.74, which are 0.22 and 0.12 higher than those of the linear model, respectively. The random forest model has training and validation R2 scores of 0.90 and 0.84, which are 0.29 and 0.22 higher than those of the linear model, respectively. The best-performing model is the gradient boosting regressor. It has training and validation R2 scores of 0.99 and 0.92, which are 0.38 and 0.30 higher than those of the linear model, respectively.\n",
    "\n",
    "2. Out of the models tested, I would select the gradient boosting model since it is the best-performing. It has the lowest training and validation mean square errors, indicating that it makes the highest quality predictions (has the lowest prediction error) of all the models. As expected, its training and validation R2 scores are also the highest of all the models, and are just generally very high, being very close to 1, indicating that it is the best fit for the data.\n",
    "\n",
    "3. Both the decistion tree and random forest models did not perform as well as the gradient boosting model.\n",
    "\n",
    "    For the decision tree model, I would play around with the maximum depth of the tree to see if increasing or descreasing it would increase its accuracy. For all the models, the maximum depth was set to 5. Since pre-pruning is the main strategy used to tune a decision tree model, altering the maximum depth will greatly impact the model's accuracy. Whereas the other models have other parameters that their performance relies on, like number of estimators in random forests or learning rate in gradient boosting machines, the decision tree model only has a few, one of them being maximum depth of the tree.\n",
    "\n",
    "    To increase the accuracy of the random forest model, I would add more trees, increasing the n_estimators parameter, to better accound for the behaviour of the data and make more accurate predictions."
   ]
  },
  {
   "attachments": {},
   "cell_type": "markdown",
   "id": "37b238f4",
   "metadata": {},
   "source": [
    "### Process Description (4 marks)\n",
    "Please describe the process you used to create your code. Cite any websites or generative AI tools used. You can use the following questions as guidance:\n",
    "1. Where did you source your code?\n",
    "1. In what order did you complete the steps?\n",
    "1. If you used generative AI, what prompts did you use? Did you need to modify the code at all? Why or why not?\n",
    "1. Did you have any challenges? If yes, what were they? If not, what helped you to be successful?"
   ]
  },
  {
   "attachments": {},
   "cell_type": "markdown",
   "id": "93097bfe",
   "metadata": {},
   "source": [
    "*DESCRIBE YOUR PROCESS HERE*\n",
    "\\\n",
    "\\\n",
    "I used the ENSF 611 Jupyter notebooks as a guideline for how to use SciKit-Learn for cross_validate(). Other than that, I relied on the SciKit-Learn documentation (https://scikit-learn.org/stable/modules/generated/sklearn.model_selection.cross_validate.html) to help me understand what the different parameters for cross_validate() were, what values I should put for them, and what the function returns in order to be able to properly extract the training and testing scores from the return value. I completed all the steps in order because every step relies on the one before it. However, after completing all the steps, I did go back to tweak certain parameters to see how that would affect my results in order to better understand what was going on.\n",
    "\n",
    "I generally don't like to use generative AI to help me code as I prefer to do more manual research and read the documentation for libraries that I am using myself - so I did not use any generative AI for this process.\n",
    "\n",
    "A challenge I had was determining whether to use the entire dataset or just the training set for cross-validation. After doing my own research, I learned that using the training set for cross-validation is best practice done to ensure that the model does not overfit the data and provides a more accuracte reflection of how it will perform on unseen data - which was eventually confirmed by our instructor.\n"
   ]
  },
  {
   "attachments": {},
   "cell_type": "markdown",
   "id": "f7c6de86",
   "metadata": {},
   "source": [
    "## Part 2: Classification (17.5 marks)\n",
    "\n",
    "You have been asked to develop code that can help the user classify different wine samples. Following the machine learning workflow described in class, write the relevant code in each of the steps below:"
   ]
  },
  {
   "attachments": {},
   "cell_type": "markdown",
   "id": "5f9d33a8",
   "metadata": {},
   "source": [
    "### Step 1: Data Input (2 marks)\n",
    "\n",
    "The data used for this task can be downloaded from UCI: https://archive.ics.uci.edu/dataset/109/wine\n",
    "\n",
    "Use the pandas library to load the dataset. You must define the column headers if they are not included in the dataset \n",
    "\n",
    "You will need to split the dataset into feature matrix `X` and target vector `y`. Which column represents the target vector?\n",
    "\n",
    "Print the size and type of `X` and `y`"
   ]
  },
  {
   "cell_type": "code",
   "execution_count": 130,
   "id": "33583c67",
   "metadata": {},
   "outputs": [
    {
     "name": "stdout",
     "output_type": "stream",
     "text": [
      "Size of X:  (178, 13) \n",
      "Type(s) of X:\n",
      " Alcohol                         float64\n",
      "Malic acid                      float64\n",
      "Ash                             float64\n",
      "Alcalinity of ash               float64\n",
      "Magnesium                         int64\n",
      "Total phenols                   float64\n",
      "Flavanoids                      float64\n",
      "Nonflavanoid phenols            float64\n",
      "Proanthocyanins                 float64\n",
      "Color intensity                 float64\n",
      "Hue                             float64\n",
      "OD280/OD315 of diluted wines    float64\n",
      "Proline                           int64\n",
      "dtype: object\n",
      "\n",
      "Size of y:  (178,) \n",
      "Type of y: int64\n"
     ]
    }
   ],
   "source": [
    "# TO DO: Import wine dataset\n",
    "\n",
    "wine_df = pd.read_csv('wine.data', names=['Class', 'Alcohol', 'Malic acid', 'Ash', 'Alcalinity of ash', 'Magnesium', 'Total phenols', 'Flavanoids', 'Nonflavanoid phenols',\n",
    "                                          'Proanthocyanins', 'Color intensity', 'Hue', 'OD280/OD315 of diluted wines', 'Proline'], index_col=False)\n",
    "\n",
    "# The dataset has 14 columns. The first column is for the wine class, which is the target variable that we want to classify wine samples into.\n",
    "# The feature matrix X will contain all columns other than 'Class'. Class will be made the target vector y.\n",
    "X = wine_df.drop(columns='Class')\n",
    "y = wine_df['Class']\n",
    "\n",
    "# Print size and type of X and y.\n",
    "print(\"Size of X: \", X.shape, \"\\nType(s) of X:\\n\", X.dtypes)\n",
    "print(\"\\nSize of y: \", y.shape, \"\\nType of y:\", y.dtypes)"
   ]
  },
  {
   "attachments": {},
   "cell_type": "markdown",
   "id": "156db208",
   "metadata": {},
   "source": [
    "### Step 2: Data Processing (1.5 marks)"
   ]
  },
  {
   "attachments": {},
   "cell_type": "markdown",
   "id": "a28af110",
   "metadata": {},
   "source": [
    "Print the first five rows of the dataset to inspect:"
   ]
  },
  {
   "cell_type": "code",
   "execution_count": 133,
   "id": "ea266921",
   "metadata": {},
   "outputs": [
    {
     "data": {
      "text/html": [
       "<div>\n",
       "<style scoped>\n",
       "    .dataframe tbody tr th:only-of-type {\n",
       "        vertical-align: middle;\n",
       "    }\n",
       "\n",
       "    .dataframe tbody tr th {\n",
       "        vertical-align: top;\n",
       "    }\n",
       "\n",
       "    .dataframe thead th {\n",
       "        text-align: right;\n",
       "    }\n",
       "</style>\n",
       "<table border=\"1\" class=\"dataframe\">\n",
       "  <thead>\n",
       "    <tr style=\"text-align: right;\">\n",
       "      <th></th>\n",
       "      <th>Class</th>\n",
       "      <th>Alcohol</th>\n",
       "      <th>Malic acid</th>\n",
       "      <th>Ash</th>\n",
       "      <th>Alcalinity of ash</th>\n",
       "      <th>Magnesium</th>\n",
       "      <th>Total phenols</th>\n",
       "      <th>Flavanoids</th>\n",
       "      <th>Nonflavanoid phenols</th>\n",
       "      <th>Proanthocyanins</th>\n",
       "      <th>Color intensity</th>\n",
       "      <th>Hue</th>\n",
       "      <th>OD280/OD315 of diluted wines</th>\n",
       "      <th>Proline</th>\n",
       "    </tr>\n",
       "  </thead>\n",
       "  <tbody>\n",
       "    <tr>\n",
       "      <th>0</th>\n",
       "      <td>1</td>\n",
       "      <td>14.23</td>\n",
       "      <td>1.71</td>\n",
       "      <td>2.43</td>\n",
       "      <td>15.6</td>\n",
       "      <td>127</td>\n",
       "      <td>2.80</td>\n",
       "      <td>3.06</td>\n",
       "      <td>0.28</td>\n",
       "      <td>2.29</td>\n",
       "      <td>5.64</td>\n",
       "      <td>1.04</td>\n",
       "      <td>3.92</td>\n",
       "      <td>1065</td>\n",
       "    </tr>\n",
       "    <tr>\n",
       "      <th>1</th>\n",
       "      <td>1</td>\n",
       "      <td>13.20</td>\n",
       "      <td>1.78</td>\n",
       "      <td>2.14</td>\n",
       "      <td>11.2</td>\n",
       "      <td>100</td>\n",
       "      <td>2.65</td>\n",
       "      <td>2.76</td>\n",
       "      <td>0.26</td>\n",
       "      <td>1.28</td>\n",
       "      <td>4.38</td>\n",
       "      <td>1.05</td>\n",
       "      <td>3.40</td>\n",
       "      <td>1050</td>\n",
       "    </tr>\n",
       "    <tr>\n",
       "      <th>2</th>\n",
       "      <td>1</td>\n",
       "      <td>13.16</td>\n",
       "      <td>2.36</td>\n",
       "      <td>2.67</td>\n",
       "      <td>18.6</td>\n",
       "      <td>101</td>\n",
       "      <td>2.80</td>\n",
       "      <td>3.24</td>\n",
       "      <td>0.30</td>\n",
       "      <td>2.81</td>\n",
       "      <td>5.68</td>\n",
       "      <td>1.03</td>\n",
       "      <td>3.17</td>\n",
       "      <td>1185</td>\n",
       "    </tr>\n",
       "    <tr>\n",
       "      <th>3</th>\n",
       "      <td>1</td>\n",
       "      <td>14.37</td>\n",
       "      <td>1.95</td>\n",
       "      <td>2.50</td>\n",
       "      <td>16.8</td>\n",
       "      <td>113</td>\n",
       "      <td>3.85</td>\n",
       "      <td>3.49</td>\n",
       "      <td>0.24</td>\n",
       "      <td>2.18</td>\n",
       "      <td>7.80</td>\n",
       "      <td>0.86</td>\n",
       "      <td>3.45</td>\n",
       "      <td>1480</td>\n",
       "    </tr>\n",
       "    <tr>\n",
       "      <th>4</th>\n",
       "      <td>1</td>\n",
       "      <td>13.24</td>\n",
       "      <td>2.59</td>\n",
       "      <td>2.87</td>\n",
       "      <td>21.0</td>\n",
       "      <td>118</td>\n",
       "      <td>2.80</td>\n",
       "      <td>2.69</td>\n",
       "      <td>0.39</td>\n",
       "      <td>1.82</td>\n",
       "      <td>4.32</td>\n",
       "      <td>1.04</td>\n",
       "      <td>2.93</td>\n",
       "      <td>735</td>\n",
       "    </tr>\n",
       "  </tbody>\n",
       "</table>\n",
       "</div>"
      ],
      "text/plain": [
       "   Class  Alcohol  Malic acid   Ash  Alcalinity of ash  Magnesium  \\\n",
       "0      1    14.23        1.71  2.43               15.6        127   \n",
       "1      1    13.20        1.78  2.14               11.2        100   \n",
       "2      1    13.16        2.36  2.67               18.6        101   \n",
       "3      1    14.37        1.95  2.50               16.8        113   \n",
       "4      1    13.24        2.59  2.87               21.0        118   \n",
       "\n",
       "   Total phenols  Flavanoids  Nonflavanoid phenols  Proanthocyanins  \\\n",
       "0           2.80        3.06                  0.28             2.29   \n",
       "1           2.65        2.76                  0.26             1.28   \n",
       "2           2.80        3.24                  0.30             2.81   \n",
       "3           3.85        3.49                  0.24             2.18   \n",
       "4           2.80        2.69                  0.39             1.82   \n",
       "\n",
       "   Color intensity   Hue  OD280/OD315 of diluted wines  Proline  \n",
       "0             5.64  1.04                          3.92     1065  \n",
       "1             4.38  1.05                          3.40     1050  \n",
       "2             5.68  1.03                          3.17     1185  \n",
       "3             7.80  0.86                          3.45     1480  \n",
       "4             4.32  1.04                          2.93      735  "
      ]
     },
     "metadata": {},
     "output_type": "display_data"
    }
   ],
   "source": [
    "# TO DO: ADD YOUR CODE HERE\n",
    "\n",
    "display(wine_df.head(5))"
   ]
  },
  {
   "attachments": {},
   "cell_type": "markdown",
   "id": "834fc8fe",
   "metadata": {},
   "source": [
    "Check to see if there are any missing values in the dataset. If necessary, select an appropriate method to fill-in the missing values"
   ]
  },
  {
   "cell_type": "code",
   "execution_count": 134,
   "id": "97c6e9dc",
   "metadata": {},
   "outputs": [
    {
     "data": {
      "text/plain": [
       "Class                           0\n",
       "Alcohol                         0\n",
       "Malic acid                      0\n",
       "Ash                             0\n",
       "Alcalinity of ash               0\n",
       "Magnesium                       0\n",
       "Total phenols                   0\n",
       "Flavanoids                      0\n",
       "Nonflavanoid phenols            0\n",
       "Proanthocyanins                 0\n",
       "Color intensity                 0\n",
       "Hue                             0\n",
       "OD280/OD315 of diluted wines    0\n",
       "Proline                         0\n",
       "dtype: int64"
      ]
     },
     "metadata": {},
     "output_type": "display_data"
    }
   ],
   "source": [
    "# TO DO: ADD YOUR CODE HERE\n",
    "\n",
    "display(wine_df.isnull().sum()) # There are no missing values."
   ]
  },
  {
   "attachments": {},
   "cell_type": "markdown",
   "id": "070956af",
   "metadata": {},
   "source": [
    "How many samples do we have of each type of wine?"
   ]
  },
  {
   "cell_type": "code",
   "execution_count": 135,
   "id": "b37a6fd9",
   "metadata": {},
   "outputs": [
    {
     "name": "stdout",
     "output_type": "stream",
     "text": [
      "Number of Samples of Each Type of Wine\n",
      "Class 1:  59\n",
      "Class 2:  71\n",
      "Class 3:  48\n"
     ]
    }
   ],
   "source": [
    "# TO DO: ADD YOUR CODE HERE\n",
    "\n",
    "mask = wine_df['Class'] == 1\n",
    "num_class1_samples = len(wine_df[mask])\n",
    "\n",
    "mask = wine_df['Class'] == 2\n",
    "num_class2_samples = len(wine_df[mask])\n",
    "\n",
    "mask = wine_df['Class'] == 3\n",
    "num_class3_samples = len(wine_df[mask])\n",
    "\n",
    "print(\"Number of Samples of Each Type of Wine\")\n",
    "print(\"Class 1: \", num_class1_samples)\n",
    "print(\"Class 2: \", num_class2_samples)\n",
    "print(\"Class 3: \", num_class3_samples)"
   ]
  },
  {
   "attachments": {},
   "cell_type": "markdown",
   "id": "70e6c46f",
   "metadata": {},
   "source": [
    "### Step 3: Implement Machine Learning Model\n",
    "\n",
    "1. Import `SVC` and `DecisionTreeClassifier` from sklearn\n",
    "2. Instantiate models as `SVC()` and `DecisionTreeClassifier(max_depth = 3)`\n",
    "3. Implement the machine learning model with `X` and `y`"
   ]
  },
  {
   "attachments": {},
   "cell_type": "markdown",
   "id": "0870b0d2",
   "metadata": {},
   "source": [
    "### Step 4: Validate Model \n",
    "\n",
    "Calculate the average training and validation accuracy using `cross_validate` for the two different models listed in Step 3. For this case, use `scoring='accuracy'`"
   ]
  },
  {
   "attachments": {},
   "cell_type": "markdown",
   "id": "bb0bbd83",
   "metadata": {},
   "source": [
    "### Step 5: Visualize Results (4 marks)\n",
    "\n",
    "#### Step 5.1: Compare Models\n",
    "1. Create a pandas DataFrame `results` with columns: Training accuracy and Validation accuracy\n",
    "2. Add the data size, training and validation accuracy for each dataset to the `results` DataFrame\n",
    "3. Print `results`"
   ]
  },
  {
   "cell_type": "code",
   "execution_count": 140,
   "id": "be4b5c0a",
   "metadata": {},
   "outputs": [
    {
     "name": "stdout",
     "output_type": "stream",
     "text": [
      "     Data Size  Training Accuracy  Validation Accuracy\n",
      "DT   (178, 13)           0.994357             0.894017\n",
      "SVC  (178, 13)           0.680427             0.676638\n"
     ]
    }
   ],
   "source": [
    "# TO DO: ADD YOUR CODE HERE FOR STEPS 3-5\n",
    "# Note: for any random state parameters, you can use random_state = 0\n",
    "# HINT: USING A LOOP TO STORE THE DATA IN YOUR RESULTS DATAFRAME WILL BE MORE EFFICIENT\n",
    "from sklearn.tree import DecisionTreeClassifier\n",
    "from sklearn.svm import SVC\n",
    "\n",
    "## STEP 3\n",
    "dtc_model = DecisionTreeClassifier(max_depth=3, random_state=0)\n",
    "svc_model = SVC(random_state=0)\n",
    "\n",
    "X_train, X_test, y_train, y_test = train_test_split(X, y, random_state=0) # use default test size\n",
    "\n",
    "dtc_model.fit(X_train, y_train)\n",
    "svc_model.fit(X_train, y_train)\n",
    "\n",
    "## STEP 4\n",
    "\n",
    "# For the Decision Tree Classifier\n",
    "dtc_cv = cross_validate(dtc_model, X_train, y_train, cv=5, scoring='accuracy', return_train_score=True)\n",
    "dtc_train_score = np.mean(dtc_cv['train_score'])\n",
    "dtc_test_score = np.mean(dtc_cv['test_score'])\n",
    "scores_ACC = { 'DT' : [X.shape, dtc_train_score, dtc_test_score] }\n",
    "\n",
    "# For the Support Vector Classifier\n",
    "svc_cv = cross_validate(svc_model, X_train, y_train, cv=5, scoring='accuracy', return_train_score=True)\n",
    "svc_train_score = np.mean(svc_cv['train_score'])\n",
    "svc_test_score = np.mean(svc_cv['test_score'])\n",
    "scores_ACC['SVC'] = [X.shape, svc_train_score, svc_test_score]\n",
    "\n",
    "## STEP 5\n",
    "results = pd.DataFrame.from_dict(scores_ACC, orient='index', columns=['Data Size', 'Training Accuracy', 'Validation Accuracy'])\n",
    "print(results)"
   ]
  },
  {
   "attachments": {},
   "cell_type": "markdown",
   "id": "f2e17878",
   "metadata": {},
   "source": [
    "#### Step 5.2: Visualize Classification Errors\n",
    "Which method gave the highest accuracy? Use this method to print the confusion matrix and classification report:"
   ]
  },
  {
   "cell_type": "code",
   "execution_count": 141,
   "id": "44b091a4",
   "metadata": {},
   "outputs": [
    {
     "data": {
      "text/plain": [
       "array([[14,  2,  0],\n",
       "       [ 0, 20,  1],\n",
       "       [ 0,  0,  8]])"
      ]
     },
     "execution_count": 141,
     "metadata": {},
     "output_type": "execute_result"
    }
   ],
   "source": [
    "# TO DO: Implement best model\n",
    "from sklearn.metrics import confusion_matrix\n",
    "\n",
    "# The method that gave the highest accuracy is the Decisiion Tree Classifier. So this is the model we will use for the confusion matrix.\n",
    "y_pred = dtc_model.predict(X_test)\n",
    "conf_matrix = confusion_matrix(y_test, y_pred)\n",
    "conf_matrix\n"
   ]
  },
  {
   "cell_type": "code",
   "execution_count": 142,
   "id": "09d21b59",
   "metadata": {},
   "outputs": [
    {
     "data": {
      "text/plain": [
       "Text(145.22222222222229, 0.5, 'True Value')"
      ]
     },
     "execution_count": 142,
     "metadata": {},
     "output_type": "execute_result"
    },
    {
     "data": {
      "image/png": "[encoded data removed]",
      "text/plain": [
       "<Figure size 800x550 with 2 Axes>"
      ]
     },
     "metadata": {},
     "output_type": "display_data"
    }
   ],
   "source": [
    "# TO DO: Print confusion matrix using a heatmap\n",
    "sns.heatmap(conf_matrix, xticklabels=['Type 1', 'Type 2', 'Type 3'], yticklabels=['Type 1', 'Type 2', 'Type 3'], square=True, annot=True, cbar=True)\n",
    "plt.xlabel('Predicted Value')\n",
    "plt.ylabel('True Value')"
   ]
  },
  {
   "cell_type": "code",
   "execution_count": 143,
   "id": "5ef95947",
   "metadata": {},
   "outputs": [
    {
     "name": "stdout",
     "output_type": "stream",
     "text": [
      "              precision    recall  f1-score   support\n",
      "\n",
      "      Type 1       1.00      0.88      0.93        16\n",
      "      Type 2       0.91      0.95      0.93        21\n",
      "      Type 3       0.89      1.00      0.94         8\n",
      "\n",
      "    accuracy                           0.93        45\n",
      "   macro avg       0.93      0.94      0.93        45\n",
      "weighted avg       0.94      0.93      0.93        45\n",
      "\n"
     ]
    }
   ],
   "source": [
    "# TO DO: Print classification report\n",
    "from sklearn.metrics import classification_report\n",
    "\n",
    "report = classification_report(y_test, y_pred, target_names=['Type 1', 'Type 2', 'Type 3'])\n",
    "print(report)"
   ]
  },
  {
   "attachments": {},
   "cell_type": "markdown",
   "id": "bf319621",
   "metadata": {},
   "source": [
    "### Questions (6 marks)\n",
    "1. How do the training and validation accuracy change depending on the method used? Explain with values.\n",
    "1. What are two reasons why the support vector machines model did not work as well as the tree-based model?\n",
    "1. How many samples were incorrectly classified in step 5.2? \n",
    "1. In this case, is maximizing precision or recall more important? Why?\n",
    "\n",
    "*YOUR ANSWERS HERE*\n",
    "\n",
    "1. The training and validation accuracies for the decision tree model were 0.99 and 0.89, respectively, whereas for the support vector machines model, they were 0.680 and 0.677, respectively. The decision tree model accuracies were much higher than the SVC model, indicating that the former is a much better fit for the data in their current state. The SVC model has low training and validation accuracies that are both almost the same, which means this model has high bias.\n",
    "\n",
    "2. One reason the support vector machines model did not work as well as the decision tree model is because it has many parameters that were left as default. For example, important parameters such as the regularization parameter C, the choice of the kernel, and the kernel-specific parameters, like gamma for the Gaussian kernel, were not specified. Tweaking these parameters could drastically improve the SVC model's performance.\n",
    "\n",
    "    Another reason for the model's bad performance could be because support vector machines require careful preprocessing of the data, like handling class imbalances, removing outliers, etc.\n",
    "\n",
    "3. Using the high-performing decision tree model, only 3 samples were incorrectly classified. 2 samples were predicted as Type 2, but were actually Type 1 wines. 1 sample was predicted as Type 3, but was actually a Type 2 wine. Of the 45 samples in the test set, all but 3 were predicted correctly (true positives).\n",
    "\n",
    "4. Whether precision or recall is more imoprtant depends on the application of the model. For example, if Type 1 is the most expensive wine and Type 3 is the least expensive, then from a business owner's perspective, a false negative for the Type 1 wine category would be more costly than a false positive. Misclassifying an expensive wine as a less expensive wine results in more profit loss to the business than classifying a cheap wine as an expensive one. So for the Type 1 category, maximizing recall is more important. On the other hand, for the cheapest, Type 3 wine, a false negative would result in increased profits (although unethical), whereas a false positive for Type 3 would result in losses (more expensive wines classified as the cheapest) - so, in this case, precision is more important.\n",
    "\n",
    "    In conclusion, in multi-classification, it is important to assess each category/class individually (or at least the most costly ones) for whether maximizing precision or recall is more important. Once this assessment is done, the model can be adjusted to meet the precision or recall goals for each class."
   ]
  },
  {
   "attachments": {},
   "cell_type": "markdown",
   "id": "664ff8ae",
   "metadata": {},
   "source": [
    "### Process Description (4 marks)\n",
    "Please describe the process you used to create your code. Cite any websites or generative AI tools used. You can use the following questions as guidance:\n",
    "1. Where did you source your code?\n",
    "1. In what order did you complete the steps?\n",
    "1. If you used generative AI, what prompts did you use? Did you need to modify the code at all? Why or why not?\n",
    "1. Did you have any challenges? If yes, what were they? If not, what helped you to be successful?"
   ]
  },
  {
   "attachments": {},
   "cell_type": "markdown",
   "id": "d0e837da",
   "metadata": {},
   "source": [
    "*DESCRIBE YOUR PROCESS HERE*\n",
    "\n",
    "\\\n",
    "I used the ENSF 611 Jupyter notebooks as a guideline for how to use SciKit-Learn for the confusion matrix and classification report. Other than that, I relied on the SciKit-Learn documentation (https://scikit-learn.org/stable/modules/generated/sklearn.metrics.confusion_matrix.html) to help me understand what the parameters of the confusion matrix function do. Just like in the first part of this assignment, I completed all the steps in order because every step relies on the one before it.\n",
    "\n",
    "A challenge I had was figuring out whether maximizing precision or recall was more important. Since this is a multi-classification problem, it is not as simple to determine which is more important like in the binary case. I did try to use generative AI to help me answer this by asking it \"What is more important in a multi-classification problem - precision or recall? What is more costly, false negatives or false positives?\" However, it wasn't of much help since the answer it gave me was that because multi-classification problems are complex, it depends on the application. So from there, I started thinking of different scenarios in which this wine classification model might be used and for each scenario, I tried to discern whether precision or recall was more important, which led me to my answer above."
   ]
  },
  {
   "attachments": {},
   "cell_type": "markdown",
   "id": "4cd7358d",
   "metadata": {},
   "source": [
    "## Part 3: Observations/Interpretation (3 marks)\n",
    "\n",
    "Describe any pattern you see in the results. Relate your findings to what we discussed during lectures. Include data to justify your findings.\n",
    "\n",
    "\n",
    "*ADD YOUR FINDINGS HERE*\n",
    "\n",
    "In *Part 1: Regression*, I found that for complex datasets, such as the concrete one used, that are high-dimensional, involve many features and intricate interactions between them, and have the potential for a lot of noise in the data (often a problem with concrete properties), gradient boosting models perform better than random forest and single decision tree models for a multitude of reasons. When dealing with high-dimensional datasets, gradient boosting models are able to assess which features are the most important to the model and ignores or minimizes other features, reducing overfitting. In addition to being able to better-handle datasets with many features, gradient boosting models are also able to discern the complex relationships between models, all the while, ignoring outliers in the data, due to their iterative nature where each subsequent tree created learns from the errors of the one before it. This is reflected in the results of the first part of this assignment where the gradient boosting model had training and validation R2 scores of 0.99 and 0.92 compared to the lower scores for the decision tree model, 0.83 and 0.74, and the random forest model, 0.90 and 0.84, respectively.\n",
    "\n",
    "However, when comparing these 3 non-linear models to the linear regression model used for the same dataset in the previous assignment, all 3 non-linear models far outperform the linear one, which had training and validation R2 scores of 0.61 and 0.62, respectively. This is likely due to the high number of features in this dataset and the complex interactions between the features that the linear model is unable to capture.\n",
    "\n",
    "In *Part 2: Classification*, I found that the decision tree model performed much better than the support vector machines model, with training and validation accuracies of 0.99 and 0.89, compared to the SVM's, which were 0.680 and 0.677, respectively. This was likely due to the fact that support vector machines are much more complex, requiring a lot of fine-tuning of parameters and pre-processing to have a well-performing model. This highlights the importance of starting with basic models and assessing their performance for the given dataset before moving to a more complex, tedious model. I also observed that with multi-classification problems, both precision and recall are important because they can mean the same thing and have the same implications from class to class. So for these problems, the goal should be to look at what is important for the specific application of the model and strike a balance between both precision and recall."
   ]
  },
  {
   "attachments": {},
   "cell_type": "markdown",
   "id": "cd97b6ac",
   "metadata": {},
   "source": [
    "## Part 4: Reflection (2 marks)\n",
    "Include a sentence or two about:\n",
    "- what you liked or disliked,\n",
    "- found interesting, confusing, challangeing, motivating\n",
    "while working on this assignment.\n",
    "\n",
    "\n",
    "*ADD YOUR THOUGHTS HERE*\n",
    "I disliked how redundant/repetitvie the observations/interpretation part of the assignment was. I felt like I had already interpreted the results and included data to justify my findings in the questions following each coding part of the assignment.\n",
    "\n",
    "I found it interesting creating the confusion matrix and interpreting it. Seeing an actual visual depiction of the results rather than them being a table and having them broken down in a confusion matrix allowed me to deepen my understanding of the model's performance and what precision and recall mean."
   ]
  },
  {
   "attachments": {},
   "cell_type": "markdown",
   "id": "fa21e53b",
   "metadata": {},
   "source": [
    "## Part 5: Bonus Question (3 marks)\n",
    "\n",
    "Repeat Part 2 and compare the support vector machines model used to `LinearSVC(max_iter=5000)`. Does using `LinearSVC` improve the results? Why or why not?\n",
    "\n",
    "Is `LinearSVC` a good fit for this dataset? Why or why not?"
   ]
  },
  {
   "cell_type": "code",
   "execution_count": 1,
   "id": "30fea72e",
   "metadata": {},
   "outputs": [],
   "source": [
    "# TO DO: ADD YOUR CODE HERE"
   ]
  },
  {
   "attachments": {},
   "cell_type": "markdown",
   "id": "aabc68a4",
   "metadata": {},
   "source": [
    "*ANSWER HERE*"
   ]
  },
  {
   "cell_type": "code",
   "execution_count": null,
   "id": "241c3b12",
   "metadata": {},
   "outputs": [],
   "source": []
  }
 ],
 "metadata": {
  "kernelspec": {
   "display_name": "Python 3 (ipykernel)",
   "language": "python",
   "name": "python3"
  },
  "language_info": {
   "codemirror_mode": {
    "name": "ipython",
    "version": 3
   },
   "file_extension": ".py",
   "mimetype": "text/x-python",
   "name": "python",
   "nbconvert_exporter": "python",
   "pygments_lexer": "ipython3",
   "version": "3.11.5"
  }
 },
 "nbformat": 4,
 "nbformat_minor": 5
}
